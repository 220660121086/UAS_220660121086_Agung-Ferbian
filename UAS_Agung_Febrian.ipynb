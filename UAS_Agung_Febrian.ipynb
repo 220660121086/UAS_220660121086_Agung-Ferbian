{
  "nbformat": 4,
  "nbformat_minor": 0,
  "metadata": {
    "colab": {
      "provenance": [],
      "mount_file_id": "1UXDSyx4r77jCFe6cNGlNoU1-V0M0p_Dr",
      "authorship_tag": "ABX9TyNBCMKeegI7ZaOlJqbfO/wo",
      "include_colab_link": true
    },
    "kernelspec": {
      "name": "python3",
      "display_name": "Python 3"
    },
    "language_info": {
      "name": "python"
    }
  },
  "cells": [
    {
      "cell_type": "markdown",
      "metadata": {
        "id": "view-in-github",
        "colab_type": "text"
      },
      "source": [
        "<a href=\"https://colab.research.google.com/github/220660121086/UAS_220660121086_Agung-Ferbian/blob/main/UAS_Agung_Febrian.ipynb\" target=\"_parent\"><img src=\"https://colab.research.google.com/assets/colab-badge.svg\" alt=\"Open In Colab\"/></a>"
      ]
    },
    {
      "cell_type": "code",
      "source": [
        "import pandas as pd\n",
        "from sklearn.cluster import KMeans\n",
        "from sklearn.preprocessing import StandardScaler\n",
        "import matplotlib.pyplot as plt\n",
        "import seaborn as sns"
      ],
      "metadata": {
        "id": "TWmZBBLrxs9e"
      },
      "execution_count": null,
      "outputs": []
    },
    {
      "cell_type": "code",
      "source": [
        "from google.colab import files\n",
        "uploaded = files.upload()\n"
      ],
      "metadata": {
        "colab": {
          "base_uri": "https://localhost:8080/",
          "height": 73
        },
        "id": "n04wapY4xz8e",
        "outputId": "12ac5cb3-6f81-4250-a104-fb46581df36b"
      },
      "execution_count": null,
      "outputs": [
        {
          "output_type": "display_data",
          "data": {
            "text/plain": [
              "<IPython.core.display.HTML object>"
            ],
            "text/html": [
              "\n",
              "     <input type=\"file\" id=\"files-e7137302-1993-4191-b886-de5d98990054\" name=\"files[]\" multiple disabled\n",
              "        style=\"border:none\" />\n",
              "     <output id=\"result-e7137302-1993-4191-b886-de5d98990054\">\n",
              "      Upload widget is only available when the cell has been executed in the\n",
              "      current browser session. Please rerun this cell to enable.\n",
              "      </output>\n",
              "      <script>// Copyright 2017 Google LLC\n",
              "//\n",
              "// Licensed under the Apache License, Version 2.0 (the \"License\");\n",
              "// you may not use this file except in compliance with the License.\n",
              "// You may obtain a copy of the License at\n",
              "//\n",
              "//      http://www.apache.org/licenses/LICENSE-2.0\n",
              "//\n",
              "// Unless required by applicable law or agreed to in writing, software\n",
              "// distributed under the License is distributed on an \"AS IS\" BASIS,\n",
              "// WITHOUT WARRANTIES OR CONDITIONS OF ANY KIND, either express or implied.\n",
              "// See the License for the specific language governing permissions and\n",
              "// limitations under the License.\n",
              "\n",
              "/**\n",
              " * @fileoverview Helpers for google.colab Python module.\n",
              " */\n",
              "(function(scope) {\n",
              "function span(text, styleAttributes = {}) {\n",
              "  const element = document.createElement('span');\n",
              "  element.textContent = text;\n",
              "  for (const key of Object.keys(styleAttributes)) {\n",
              "    element.style[key] = styleAttributes[key];\n",
              "  }\n",
              "  return element;\n",
              "}\n",
              "\n",
              "// Max number of bytes which will be uploaded at a time.\n",
              "const MAX_PAYLOAD_SIZE = 100 * 1024;\n",
              "\n",
              "function _uploadFiles(inputId, outputId) {\n",
              "  const steps = uploadFilesStep(inputId, outputId);\n",
              "  const outputElement = document.getElementById(outputId);\n",
              "  // Cache steps on the outputElement to make it available for the next call\n",
              "  // to uploadFilesContinue from Python.\n",
              "  outputElement.steps = steps;\n",
              "\n",
              "  return _uploadFilesContinue(outputId);\n",
              "}\n",
              "\n",
              "// This is roughly an async generator (not supported in the browser yet),\n",
              "// where there are multiple asynchronous steps and the Python side is going\n",
              "// to poll for completion of each step.\n",
              "// This uses a Promise to block the python side on completion of each step,\n",
              "// then passes the result of the previous step as the input to the next step.\n",
              "function _uploadFilesContinue(outputId) {\n",
              "  const outputElement = document.getElementById(outputId);\n",
              "  const steps = outputElement.steps;\n",
              "\n",
              "  const next = steps.next(outputElement.lastPromiseValue);\n",
              "  return Promise.resolve(next.value.promise).then((value) => {\n",
              "    // Cache the last promise value to make it available to the next\n",
              "    // step of the generator.\n",
              "    outputElement.lastPromiseValue = value;\n",
              "    return next.value.response;\n",
              "  });\n",
              "}\n",
              "\n",
              "/**\n",
              " * Generator function which is called between each async step of the upload\n",
              " * process.\n",
              " * @param {string} inputId Element ID of the input file picker element.\n",
              " * @param {string} outputId Element ID of the output display.\n",
              " * @return {!Iterable<!Object>} Iterable of next steps.\n",
              " */\n",
              "function* uploadFilesStep(inputId, outputId) {\n",
              "  const inputElement = document.getElementById(inputId);\n",
              "  inputElement.disabled = false;\n",
              "\n",
              "  const outputElement = document.getElementById(outputId);\n",
              "  outputElement.innerHTML = '';\n",
              "\n",
              "  const pickedPromise = new Promise((resolve) => {\n",
              "    inputElement.addEventListener('change', (e) => {\n",
              "      resolve(e.target.files);\n",
              "    });\n",
              "  });\n",
              "\n",
              "  const cancel = document.createElement('button');\n",
              "  inputElement.parentElement.appendChild(cancel);\n",
              "  cancel.textContent = 'Cancel upload';\n",
              "  const cancelPromise = new Promise((resolve) => {\n",
              "    cancel.onclick = () => {\n",
              "      resolve(null);\n",
              "    };\n",
              "  });\n",
              "\n",
              "  // Wait for the user to pick the files.\n",
              "  const files = yield {\n",
              "    promise: Promise.race([pickedPromise, cancelPromise]),\n",
              "    response: {\n",
              "      action: 'starting',\n",
              "    }\n",
              "  };\n",
              "\n",
              "  cancel.remove();\n",
              "\n",
              "  // Disable the input element since further picks are not allowed.\n",
              "  inputElement.disabled = true;\n",
              "\n",
              "  if (!files) {\n",
              "    return {\n",
              "      response: {\n",
              "        action: 'complete',\n",
              "      }\n",
              "    };\n",
              "  }\n",
              "\n",
              "  for (const file of files) {\n",
              "    const li = document.createElement('li');\n",
              "    li.append(span(file.name, {fontWeight: 'bold'}));\n",
              "    li.append(span(\n",
              "        `(${file.type || 'n/a'}) - ${file.size} bytes, ` +\n",
              "        `last modified: ${\n",
              "            file.lastModifiedDate ? file.lastModifiedDate.toLocaleDateString() :\n",
              "                                    'n/a'} - `));\n",
              "    const percent = span('0% done');\n",
              "    li.appendChild(percent);\n",
              "\n",
              "    outputElement.appendChild(li);\n",
              "\n",
              "    const fileDataPromise = new Promise((resolve) => {\n",
              "      const reader = new FileReader();\n",
              "      reader.onload = (e) => {\n",
              "        resolve(e.target.result);\n",
              "      };\n",
              "      reader.readAsArrayBuffer(file);\n",
              "    });\n",
              "    // Wait for the data to be ready.\n",
              "    let fileData = yield {\n",
              "      promise: fileDataPromise,\n",
              "      response: {\n",
              "        action: 'continue',\n",
              "      }\n",
              "    };\n",
              "\n",
              "    // Use a chunked sending to avoid message size limits. See b/62115660.\n",
              "    let position = 0;\n",
              "    do {\n",
              "      const length = Math.min(fileData.byteLength - position, MAX_PAYLOAD_SIZE);\n",
              "      const chunk = new Uint8Array(fileData, position, length);\n",
              "      position += length;\n",
              "\n",
              "      const base64 = btoa(String.fromCharCode.apply(null, chunk));\n",
              "      yield {\n",
              "        response: {\n",
              "          action: 'append',\n",
              "          file: file.name,\n",
              "          data: base64,\n",
              "        },\n",
              "      };\n",
              "\n",
              "      let percentDone = fileData.byteLength === 0 ?\n",
              "          100 :\n",
              "          Math.round((position / fileData.byteLength) * 100);\n",
              "      percent.textContent = `${percentDone}% done`;\n",
              "\n",
              "    } while (position < fileData.byteLength);\n",
              "  }\n",
              "\n",
              "  // All done.\n",
              "  yield {\n",
              "    response: {\n",
              "      action: 'complete',\n",
              "    }\n",
              "  };\n",
              "}\n",
              "\n",
              "scope.google = scope.google || {};\n",
              "scope.google.colab = scope.google.colab || {};\n",
              "scope.google.colab._files = {\n",
              "  _uploadFiles,\n",
              "  _uploadFilesContinue,\n",
              "};\n",
              "})(self);\n",
              "</script> "
            ]
          },
          "metadata": {}
        },
        {
          "output_type": "stream",
          "name": "stdout",
          "text": [
            "Saving anime-dataset-2023.csv to anime-dataset-2023.csv\n"
          ]
        }
      ]
    },
    {
      "cell_type": "code",
      "source": [
        "df = pd.read_csv('anime-dataset-2023.csv')\n",
        "print(df.head())"
      ],
      "metadata": {
        "colab": {
          "base_uri": "https://localhost:8080/"
        },
        "id": "6Uu2tYrTyshg",
        "outputId": "3e82404f-9182-44d6-a4a0-7991f7af02a8"
      },
      "execution_count": null,
      "outputs": [
        {
          "output_type": "stream",
          "name": "stdout",
          "text": [
            "   anime_id                             Name             English name  \\\n",
            "0         1                     Cowboy Bebop             Cowboy Bebop   \n",
            "1         5  Cowboy Bebop: Tengoku no Tobira  Cowboy Bebop: The Movie   \n",
            "2         6                           Trigun                   Trigun   \n",
            "3         7               Witch Hunter Robin       Witch Hunter Robin   \n",
            "4         8                   Bouken Ou Beet   Beet the Vandel Buster   \n",
            "\n",
            "                         Other name Score  \\\n",
            "0                         カウボーイビバップ  8.75   \n",
            "1                    カウボーイビバップ 天国の扉  8.38   \n",
            "2                             トライガン  8.22   \n",
            "3  Witch Hunter ROBIN (ウイッチハンターロビン)  7.25   \n",
            "4                            冒険王ビィト  6.94   \n",
            "\n",
            "                                 Genres  \\\n",
            "0         Action, Award Winning, Sci-Fi   \n",
            "1                        Action, Sci-Fi   \n",
            "2             Action, Adventure, Sci-Fi   \n",
            "3  Action, Drama, Mystery, Supernatural   \n",
            "4      Adventure, Fantasy, Supernatural   \n",
            "\n",
            "                                            Synopsis   Type Episodes  \\\n",
            "0  Crime is timeless. By the year 2071, humanity ...     TV     26.0   \n",
            "1  Another day, another bounty—such is the life o...  Movie      1.0   \n",
            "2  Vash the Stampede is the man with a $$60,000,0...     TV     26.0   \n",
            "3  Robin Sena is a powerful craft user drafted in...     TV     26.0   \n",
            "4  It is the dark century and the people are suff...     TV     52.0   \n",
            "\n",
            "                          Aired  ...         Studios    Source       Duration  \\\n",
            "0   Apr 3, 1998 to Apr 24, 1999  ...         Sunrise  Original  24 min per ep   \n",
            "1                   Sep 1, 2001  ...           Bones  Original    1 hr 55 min   \n",
            "2   Apr 1, 1998 to Sep 30, 1998  ...        Madhouse     Manga  24 min per ep   \n",
            "3   Jul 3, 2002 to Dec 25, 2002  ...         Sunrise  Original  25 min per ep   \n",
            "4  Sep 30, 2004 to Sep 29, 2005  ...  Toei Animation     Manga  23 min per ep   \n",
            "\n",
            "                           Rating    Rank Popularity Favorites Scored By  \\\n",
            "0  R - 17+ (violence & profanity)    41.0         43     78525  914193.0   \n",
            "1  R - 17+ (violence & profanity)   189.0        602      1448  206248.0   \n",
            "2       PG-13 - Teens 13 or older   328.0        246     15035  356739.0   \n",
            "3       PG-13 - Teens 13 or older  2764.0       1795       613   42829.0   \n",
            "4                   PG - Children  4240.0       5126        14    6413.0   \n",
            "\n",
            "   Members                                          Image URL  \n",
            "0  1771505  https://cdn.myanimelist.net/images/anime/4/196...  \n",
            "1   360978  https://cdn.myanimelist.net/images/anime/1439/...  \n",
            "2   727252  https://cdn.myanimelist.net/images/anime/7/203...  \n",
            "3   111931  https://cdn.myanimelist.net/images/anime/10/19...  \n",
            "4    15001  https://cdn.myanimelist.net/images/anime/7/215...  \n",
            "\n",
            "[5 rows x 24 columns]\n"
          ]
        }
      ]
    },
    {
      "cell_type": "code",
      "source": [
        "df_clustering = df[['Episodes', 'Score', 'Genres']].copy()"
      ],
      "metadata": {
        "id": "7JOFRBGxyy9l"
      },
      "execution_count": null,
      "outputs": []
    },
    {
      "cell_type": "code",
      "source": [
        "df_clustering['Episodes'] = df_clustering['Episodes'].replace('UNKNOWN', pd.NA)\n",
        "df_clustering = df_clustering.dropna(subset=['Episodes', 'Score'])\n",
        "df_clustering['Episodes'] = pd.to_numeric(df_clustering['Episodes'], errors='coerce')\n",
        "df_clustering['Score'] = pd.to_numeric(df_clustering['Score'], errors='coerce')\n",
        "df_clustering = df_clustering.dropna(subset=['Episodes', 'Score'])\n",
        "df_clustering = pd.get_dummies(df_clustering, columns=['Genres'], prefix='Genre')"
      ],
      "metadata": {
        "colab": {
          "base_uri": "https://localhost:8080/"
        },
        "id": "DK0v8WrqzEUx",
        "outputId": "7bb50aa7-b5d6-4cb0-e4f8-1fa36d788177"
      },
      "execution_count": null,
      "outputs": [
        {
          "output_type": "stream",
          "name": "stderr",
          "text": [
            "<ipython-input-7-9e365978c76a>:3: SettingWithCopyWarning: \n",
            "A value is trying to be set on a copy of a slice from a DataFrame.\n",
            "Try using .loc[row_indexer,col_indexer] = value instead\n",
            "\n",
            "See the caveats in the documentation: https://pandas.pydata.org/pandas-docs/stable/user_guide/indexing.html#returning-a-view-versus-a-copy\n",
            "  df_clustering['Episodes'] = pd.to_numeric(df_clustering['Episodes'], errors='coerce')\n",
            "<ipython-input-7-9e365978c76a>:4: SettingWithCopyWarning: \n",
            "A value is trying to be set on a copy of a slice from a DataFrame.\n",
            "Try using .loc[row_indexer,col_indexer] = value instead\n",
            "\n",
            "See the caveats in the documentation: https://pandas.pydata.org/pandas-docs/stable/user_guide/indexing.html#returning-a-view-versus-a-copy\n",
            "  df_clustering['Score'] = pd.to_numeric(df_clustering['Score'], errors='coerce')\n"
          ]
        }
      ]
    },
    {
      "cell_type": "code",
      "source": [
        "scaler = StandardScaler()\n",
        "df_scaled = scaler.fit_transform(df_clustering)"
      ],
      "metadata": {
        "id": "m9sgPRfLzFw2"
      },
      "execution_count": null,
      "outputs": []
    },
    {
      "cell_type": "code",
      "source": [
        "kmeans = KMeans(n_clusters=5, random_state=0)\n",
        "clusters = kmeans.fit_predict(df_scaled)\n",
        "df_clustering['Cluster'] = clusters"
      ],
      "metadata": {
        "colab": {
          "base_uri": "https://localhost:8080/"
        },
        "id": "XqoAGzNGzM42",
        "outputId": "8e5be639-ddac-42f6-be01-9f4d0b372ec4"
      },
      "execution_count": null,
      "outputs": [
        {
          "output_type": "stream",
          "name": "stderr",
          "text": [
            "/usr/local/lib/python3.10/dist-packages/sklearn/cluster/_kmeans.py:870: FutureWarning: The default value of `n_init` will change from 10 to 'auto' in 1.4. Set the value of `n_init` explicitly to suppress the warning\n",
            "  warnings.warn(\n"
          ]
        }
      ]
    },
    {
      "cell_type": "code",
      "source": [
        "sns.scatterplot(x='Episodes', y='Score', hue='Cluster', data=df_clustering, palette='viridis')\n",
        "plt.title('K-means Clustering of Anime')\n",
        "plt.xlabel('Episodes')\n",
        "plt.ylabel('Score')\n",
        "plt.legend(title='Cluster')\n",
        "plt.show()"
      ],
      "metadata": {
        "colab": {
          "base_uri": "https://localhost:8080/",
          "height": 472
        },
        "id": "yWpEgK4S2cio",
        "outputId": "000a8110-1cde-4741-c173-ae62bafbcb82"
      },
      "execution_count": null,
      "outputs": [
        {
          "output_type": "display_data",
          "data": {
            "text/plain": [
              "<Figure size 640x480 with 1 Axes>"
            ],
            "image/png": "[encoded data removed]"
          },
          "metadata": {}
        }
      ]
    },
    {
      "cell_type": "code",
      "source": [
        "# Membuat salinan dari DataFrame asli yang sudah di-drop\n",
        "df_filtered = df.copy()\n",
        "df_filtered['Episodes'] = df_filtered['Episodes'].replace('UNKNOWN', pd.NA)\n",
        "df_filtered['Episodes'] = pd.to_numeric(df_filtered['Episodes'], errors='coerce')\n",
        "df_filtered['Score'] = pd.to_numeric(df_filtered['Score'], errors='coerce')\n",
        "df_filtered = df_filtered.dropna(subset=['Episodes', 'Score'])\n",
        "\n",
        "# Menambahkan kolom Cluster ke df_filtered\n",
        "df_filtered['Cluster'] = clusters\n",
        "\n",
        "# Menampilkan hasil clustering\n",
        "df_result = df_filtered[['Name', 'Genres', 'Episodes', 'Score', 'Cluster']]\n",
        "\n",
        "# Menampilkan 50 baris pertama dari df_result\n",
        "# Sebagai contoh hanya menampilkan 50 baris, bisa diganti sesuai keinginan\n",
        "print(df_result.head(20))\n",
        "\n",
        "# Menampilkan pesan jumlah baris dan kolom di bawahnya\n",
        "print(f\"\\n[ {len(df_result)} rows x {len(df_result.columns)} columns ]\")"
      ],
      "metadata": {
        "colab": {
          "base_uri": "https://localhost:8080/"
        },
        "id": "dw2e0I2OzQQh",
        "outputId": "ef1b1d9b-5809-4407-838b-1691de5c3736"
      },
      "execution_count": null,
      "outputs": [
        {
          "output_type": "stream",
          "name": "stdout",
          "text": [
            "                               Name  \\\n",
            "0                      Cowboy Bebop   \n",
            "1   Cowboy Bebop: Tengoku no Tobira   \n",
            "2                            Trigun   \n",
            "3                Witch Hunter Robin   \n",
            "4                    Bouken Ou Beet   \n",
            "5                      Eyeshield 21   \n",
            "6              Hachimitsu to Clover   \n",
            "7        Hungry Heart: Wild Striker   \n",
            "8            Initial D Fourth Stage   \n",
            "9                           Monster   \n",
            "10                           Naruto   \n",
            "12              Tennis no Ouji-sama   \n",
            "13                 Ring ni Kakero 1   \n",
            "14                    School Rumble   \n",
            "15                        Sunabouzu   \n",
            "16                       Texhnolyze   \n",
            "17                    Trinity Blood   \n",
            "18                 Yakitate!! Japan   \n",
            "19                           Zipang   \n",
            "20          Neon Genesis Evangelion   \n",
            "\n",
            "                                               Genres  Episodes  Score  \\\n",
            "0                       Action, Award Winning, Sci-Fi      26.0   8.75   \n",
            "1                                      Action, Sci-Fi       1.0   8.38   \n",
            "2                           Action, Adventure, Sci-Fi      26.0   8.22   \n",
            "3                Action, Drama, Mystery, Supernatural      26.0   7.25   \n",
            "4                    Adventure, Fantasy, Supernatural      52.0   6.94   \n",
            "5                                              Sports     145.0   7.92   \n",
            "6                              Comedy, Drama, Romance      24.0   8.00   \n",
            "7                       Comedy, Slice of Life, Sports      52.0   7.55   \n",
            "8                                       Action, Drama      24.0   8.16   \n",
            "9                            Drama, Mystery, Suspense      74.0   8.87   \n",
            "10                         Action, Adventure, Fantasy     220.0   7.99   \n",
            "12                                             Sports     178.0   7.86   \n",
            "13                                     Action, Sports      12.0   6.39   \n",
            "14                                    Comedy, Romance      26.0   7.89   \n",
            "15           Action, Adventure, Comedy, Sci-Fi, Ecchi      24.0   7.38   \n",
            "16                              Action, Drama, Sci-Fi      22.0   7.76   \n",
            "17                               Action, Supernatural      24.0   7.29   \n",
            "18                                    Comedy, Gourmet      69.0   7.91   \n",
            "19                              Action, Drama, Sci-Fi      26.0   7.48   \n",
            "20  Action, Avant Garde, Award Winning, Drama, Sci...      26.0   8.35   \n",
            "\n",
            "    Cluster  \n",
            "0         3  \n",
            "1         4  \n",
            "2         4  \n",
            "3         4  \n",
            "4         4  \n",
            "5         3  \n",
            "6         3  \n",
            "7         4  \n",
            "8         4  \n",
            "9         3  \n",
            "10        4  \n",
            "12        3  \n",
            "13        4  \n",
            "14        4  \n",
            "15        4  \n",
            "16        3  \n",
            "17        4  \n",
            "18        4  \n",
            "19        3  \n",
            "20        3  \n",
            "\n",
            "[ 15604 rows x 5 columns ]\n"
          ]
        },
        {
          "output_type": "stream",
          "name": "stderr",
          "text": [
            "<ipython-input-17-a89532f85f28>:9: SettingWithCopyWarning: \n",
            "A value is trying to be set on a copy of a slice from a DataFrame.\n",
            "Try using .loc[row_indexer,col_indexer] = value instead\n",
            "\n",
            "See the caveats in the documentation: https://pandas.pydata.org/pandas-docs/stable/user_guide/indexing.html#returning-a-view-versus-a-copy\n",
            "  df_filtered['Cluster'] = clusters\n"
          ]
        }
      ]
    },
    {
      "cell_type": "code",
      "source": [
        "# Mount Google Drive\n",
        "from google.colab import drive\n",
        "drive.mount('/content/drive')\n",
        "\n",
        "df_result.to_csv('/content/drive/My Drive/Colab Notebooks/hasil_clustering_anime.csv', index=False)"
      ],
      "metadata": {
        "colab": {
          "base_uri": "https://localhost:8080/"
        },
        "id": "_p-Sm8-A1o0W",
        "outputId": "fd6bc228-9704-4c63-e076-82302ece6047"
      },
      "execution_count": null,
      "outputs": [
        {
          "output_type": "stream",
          "name": "stdout",
          "text": [
            "Drive already mounted at /content/drive; to attempt to forcibly remount, call drive.mount(\"/content/drive\", force_remount=True).\n"
          ]
        }
      ]
    }
  ]
}